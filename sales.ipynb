{
 "cells": [
  {
   "cell_type": "code",
   "execution_count": 48,
   "metadata": {},
   "outputs": [],
   "source": [
    "import numpy as np\n",
    "import pandas as pd\n",
    "import matplotlib.pyplot as plt\n",
    "import seaborn as sns\n",
    "\n",
    "\n",
    "%matplotlib inline"
   ]
  },
  {
   "cell_type": "code",
   "execution_count": 49,
   "metadata": {},
   "outputs": [
    {
     "data": {
      "text/html": [
       "<div>\n",
       "<style scoped>\n",
       "    .dataframe tbody tr th:only-of-type {\n",
       "        vertical-align: middle;\n",
       "    }\n",
       "\n",
       "    .dataframe tbody tr th {\n",
       "        vertical-align: top;\n",
       "    }\n",
       "\n",
       "    .dataframe thead th {\n",
       "        text-align: right;\n",
       "    }\n",
       "</style>\n",
       "<table border=\"1\" class=\"dataframe\">\n",
       "  <thead>\n",
       "    <tr style=\"text-align: right;\">\n",
       "      <th></th>\n",
       "      <th>product_id</th>\n",
       "      <th>category</th>\n",
       "      <th>animal</th>\n",
       "      <th>size</th>\n",
       "      <th>price</th>\n",
       "      <th>sales</th>\n",
       "      <th>rating</th>\n",
       "      <th>repeat_purchase</th>\n",
       "    </tr>\n",
       "  </thead>\n",
       "  <tbody>\n",
       "    <tr>\n",
       "      <th>0</th>\n",
       "      <td>1</td>\n",
       "      <td>Food</td>\n",
       "      <td>Bird</td>\n",
       "      <td>large</td>\n",
       "      <td>51.1</td>\n",
       "      <td>1860.62</td>\n",
       "      <td>7.0</td>\n",
       "      <td>1</td>\n",
       "    </tr>\n",
       "    <tr>\n",
       "      <th>1</th>\n",
       "      <td>2</td>\n",
       "      <td>Housing</td>\n",
       "      <td>Bird</td>\n",
       "      <td>MEDIUM</td>\n",
       "      <td>35.98</td>\n",
       "      <td>963.60</td>\n",
       "      <td>6.0</td>\n",
       "      <td>0</td>\n",
       "    </tr>\n",
       "    <tr>\n",
       "      <th>2</th>\n",
       "      <td>3</td>\n",
       "      <td>Food</td>\n",
       "      <td>Dog</td>\n",
       "      <td>medium</td>\n",
       "      <td>31.23</td>\n",
       "      <td>898.30</td>\n",
       "      <td>5.0</td>\n",
       "      <td>1</td>\n",
       "    </tr>\n",
       "    <tr>\n",
       "      <th>3</th>\n",
       "      <td>4</td>\n",
       "      <td>Medicine</td>\n",
       "      <td>Cat</td>\n",
       "      <td>small</td>\n",
       "      <td>24.95</td>\n",
       "      <td>982.15</td>\n",
       "      <td>6.0</td>\n",
       "      <td>1</td>\n",
       "    </tr>\n",
       "    <tr>\n",
       "      <th>4</th>\n",
       "      <td>5</td>\n",
       "      <td>Housing</td>\n",
       "      <td>Cat</td>\n",
       "      <td>Small</td>\n",
       "      <td>26.18</td>\n",
       "      <td>832.63</td>\n",
       "      <td>7.0</td>\n",
       "      <td>1</td>\n",
       "    </tr>\n",
       "  </tbody>\n",
       "</table>\n",
       "</div>"
      ],
      "text/plain": [
       "   product_id  category animal    size  price    sales  rating  \\\n",
       "0           1      Food   Bird   large   51.1  1860.62     7.0   \n",
       "1           2   Housing   Bird  MEDIUM  35.98   963.60     6.0   \n",
       "2           3      Food    Dog  medium  31.23   898.30     5.0   \n",
       "3           4  Medicine    Cat   small  24.95   982.15     6.0   \n",
       "4           5   Housing    Cat   Small  26.18   832.63     7.0   \n",
       "\n",
       "   repeat_purchase  \n",
       "0                1  \n",
       "1                0  \n",
       "2                1  \n",
       "3                1  \n",
       "4                1  "
      ]
     },
     "execution_count": 49,
     "metadata": {},
     "output_type": "execute_result"
    }
   ],
   "source": [
    "Sales = pd.read_csv(\"data/pet_supplies_2212.csv\")\n",
    "Sales.head()"
   ]
  },
  {
   "cell_type": "code",
   "execution_count": null,
   "metadata": {},
   "outputs": [],
   "source": []
  },
  {
   "cell_type": "code",
   "execution_count": 50,
   "metadata": {},
   "outputs": [
    {
     "data": {
      "text/plain": [
       "(1500, 8)"
      ]
     },
     "execution_count": 50,
     "metadata": {},
     "output_type": "execute_result"
    }
   ],
   "source": [
    "Sales.shape"
   ]
  },
  {
   "cell_type": "code",
   "execution_count": 51,
   "metadata": {},
   "outputs": [
    {
     "name": "stdout",
     "output_type": "stream",
     "text": [
      "<class 'pandas.core.frame.DataFrame'>\n",
      "RangeIndex: 1500 entries, 0 to 1499\n",
      "Data columns (total 8 columns):\n",
      " #   Column           Non-Null Count  Dtype  \n",
      "---  ------           --------------  -----  \n",
      " 0   product_id       1500 non-null   int64  \n",
      " 1   category         1500 non-null   object \n",
      " 2   animal           1500 non-null   object \n",
      " 3   size             1500 non-null   object \n",
      " 4   price            1500 non-null   object \n",
      " 5   sales            1500 non-null   float64\n",
      " 6   rating           1350 non-null   float64\n",
      " 7   repeat_purchase  1500 non-null   int64  \n",
      "dtypes: float64(2), int64(2), object(4)\n",
      "memory usage: 93.9+ KB\n"
     ]
    }
   ],
   "source": [
    "Sales.info()"
   ]
  },
  {
   "cell_type": "code",
   "execution_count": 52,
   "metadata": {},
   "outputs": [
    {
     "data": {
      "text/plain": [
       "1    906\n",
       "0    594\n",
       "Name: repeat_purchase, dtype: int64"
      ]
     },
     "execution_count": 52,
     "metadata": {},
     "output_type": "execute_result"
    }
   ],
   "source": [
    "# Sales['category'] = Sales['category'].replace('-',\"Unknown\")\n",
    "\n",
    "Sales['repeat_purchase'].value_counts()"
   ]
  },
  {
   "attachments": {},
   "cell_type": "markdown",
   "metadata": {},
   "source": [
    "There are no explicit missing values. But we found 25 values of  \"-\" as category's values too.  those values were considered as missing values and were replaced with  \"Unknown\"."
   ]
  },
  {
   "cell_type": "code",
   "execution_count": 53,
   "metadata": {},
   "outputs": [
    {
     "data": {
      "text/plain": [
       "unlisted    150\n",
       "Name: price, dtype: int64"
      ]
     },
     "execution_count": 53,
     "metadata": {},
     "output_type": "execute_result"
    }
   ],
   "source": [
    "# Sales[['product_id']].duplicated().sum()\n",
    "# 1500 - 1350\n",
    "Sales['price'][Sales['price'] == 'unlisted'].value_counts()"
   ]
  },
  {
   "cell_type": "code",
   "execution_count": 54,
   "metadata": {},
   "outputs": [
    {
     "name": "stdout",
     "output_type": "stream",
     "text": [
      "<class 'pandas.core.frame.DataFrame'>\n",
      "RangeIndex: 1500 entries, 0 to 1499\n",
      "Data columns (total 8 columns):\n",
      " #   Column           Non-Null Count  Dtype  \n",
      "---  ------           --------------  -----  \n",
      " 0   product_id       1500 non-null   int64  \n",
      " 1   category         1500 non-null   object \n",
      " 2   animal           1500 non-null   object \n",
      " 3   size             1500 non-null   object \n",
      " 4   price            1500 non-null   float64\n",
      " 5   sales            1500 non-null   float64\n",
      " 6   rating           1500 non-null   int32  \n",
      " 7   repeat_purchase  1500 non-null   object \n",
      "dtypes: float64(2), int32(1), int64(1), object(4)\n",
      "memory usage: 88.0+ KB\n"
     ]
    },
    {
     "name": "stderr",
     "output_type": "stream",
     "text": [
      "C:\\Users\\Tomate\\AppData\\Local\\Temp\\ipykernel_22020\\2378667650.py:4: SettingWithCopyWarning: \n",
      "A value is trying to be set on a copy of a slice from a DataFrame\n",
      "\n",
      "See the caveats in the documentation: https://pandas.pydata.org/pandas-docs/stable/user_guide/indexing.html#returning-a-view-versus-a-copy\n",
      "  Sales['size'][(Sales['size']=='large') | (Sales['size']=='LARGE')] = 'Large'\n",
      "C:\\Users\\Tomate\\AppData\\Local\\Temp\\ipykernel_22020\\2378667650.py:5: SettingWithCopyWarning: \n",
      "A value is trying to be set on a copy of a slice from a DataFrame\n",
      "\n",
      "See the caveats in the documentation: https://pandas.pydata.org/pandas-docs/stable/user_guide/indexing.html#returning-a-view-versus-a-copy\n",
      "  Sales['size'][(Sales['size']=='medium') | (Sales['size']=='MEDIUM')] = 'Medium'\n",
      "C:\\Users\\Tomate\\AppData\\Local\\Temp\\ipykernel_22020\\2378667650.py:6: SettingWithCopyWarning: \n",
      "A value is trying to be set on a copy of a slice from a DataFrame\n",
      "\n",
      "See the caveats in the documentation: https://pandas.pydata.org/pandas-docs/stable/user_guide/indexing.html#returning-a-view-versus-a-copy\n",
      "  Sales['size'][(Sales['size']=='small') | (Sales['size']=='SMALL')] = 'Small'\n"
     ]
    }
   ],
   "source": [
    "# Sales['product_id'] = Sales['product_id'].astype(str)\n",
    "\n",
    "Sales['category'] = Sales['category'].replace('-',\"Unknown\")\n",
    "Sales['size'][(Sales['size']=='large') | (Sales['size']=='LARGE')] = 'Large'\n",
    "Sales['size'][(Sales['size']=='medium') | (Sales['size']=='MEDIUM')] = 'Medium'\n",
    "Sales['size'][(Sales['size']=='small') | (Sales['size']=='SMALL')] = 'Small'\n",
    "Sales['price'] = Sales['price'].replace('unlisted', np.nan)\n",
    "price_med = Sales['price'].median().round(2)\n",
    "Sales['price'].fillna(price_med, inplace=True)\n",
    "Sales['price'] = Sales['price'].astype(float).round(2)\n",
    "Sales['rating'].fillna(0, inplace=True)\n",
    "Sales['rating'] = Sales['rating'].astype(int)\n",
    "\n",
    "Sales['repeat_purchase'] = Sales['repeat_purchase'].astype(str)\n",
    "Sales.info()\n",
    "\n",
    "\n"
   ]
  },
  {
   "cell_type": "code",
   "execution_count": 55,
   "metadata": {},
   "outputs": [
    {
     "name": "stdout",
     "output_type": "stream",
     "text": [
      "<class 'pandas.core.frame.DataFrame'>\n",
      "RangeIndex: 1500 entries, 0 to 1499\n",
      "Data columns (total 8 columns):\n",
      " #   Column           Non-Null Count  Dtype  \n",
      "---  ------           --------------  -----  \n",
      " 0   product_id       1500 non-null   int64  \n",
      " 1   category         1500 non-null   object \n",
      " 2   animal           1500 non-null   object \n",
      " 3   size             1500 non-null   object \n",
      " 4   price            1500 non-null   float64\n",
      " 5   sales            1500 non-null   float64\n",
      " 6   rating           1500 non-null   int32  \n",
      " 7   repeat_purchase  1500 non-null   object \n",
      "dtypes: float64(2), int32(1), int64(1), object(4)\n",
      "memory usage: 88.0+ KB\n"
     ]
    }
   ],
   "source": [
    "# Sales['price'][Sales['price'] == 'unlisted'].value_counts()\n",
    "Sales.info()"
   ]
  },
  {
   "cell_type": "code",
   "execution_count": 56,
   "metadata": {},
   "outputs": [
    {
     "data": {
      "text/plain": [
       "array(['1', '0'], dtype=object)"
      ]
     },
     "execution_count": 56,
     "metadata": {},
     "output_type": "execute_result"
    }
   ],
   "source": [
    "# Sales.category.unique()\n",
    "# Sales.animal.unique()\n",
    "# Sales['size'].unique()\n",
    "# Sales['rating'].unique()\n",
    "Sales['repeat_purchase'].unique()\n"
   ]
  },
  {
   "attachments": {},
   "cell_type": "markdown",
   "metadata": {},
   "source": [
    "# Task 1\n",
    "For every column in the data:\n",
    "\n",
    "- State whether the values match the description given in the table above.\n",
    "\n",
    "- State the number of missing values in the column.\n",
    "\n",
    "- Describe what you did to make values match the description if they did not match.\n",
    "\n",
    "\n",
    "*Solution*\n",
    "\n",
    "**product_id**: There are 1500 unique values that match the description given. There are no missing values.\n",
    "\n",
    "**category**: There were 6 unique values(Housing,Food, Toys, Equipment,Medicine, Accessory). There are no explicit missing values. But we found 25 values of  \"-\" as category's values too.  those values were considered as missing values and were replaced with  \"Unknown\".\n",
    "\n",
    "**animal**: There were 4 unique values(Dog, Cat,Fish, Bird) that matches the four given in the data dictionary. There were no missing values so no changes were made to this column. \n",
    "\n",
    "**size**: The unique values of this column were 9 (large', 'MEDIUM','medium','small', 'Small', 'Large', 'SMALL','Medium', 'LARGE'), it's problem of writing, then: \n",
    "  *  [large,LARGE] were replaced by Large\n",
    "  *  [medium,MEDIM] were replaced by Medium\n",
    "  *  [smal,SMALL] were replaced by Small\n",
    "\n",
    ". There were no missing values. \n",
    "\n",
    "**price**: There are no explicit missing values. But **price**'s data type is **object** instead of **float** as it said in description.Indeed, it's because there were 150 values as string ('unlisted') in the data, those values were considered as missing values and were replaced with the median, the data type were transformed into float.\n",
    "\n",
    "**sales**: this columns's decription match with the description. There were no missing values and no changes were made to this column. \n",
    "\n",
    "**rating**: the data type not matched with the description, then from float, it were transformed into integer. there were 150(1500 - 1350) missing values, then they were replaced with 0.\n",
    "\n",
    "**repeat_purcharse**: The values were in 0 or 1, but the data type was integer, the it was transformed into nominal.there were no missing values.\n"
   ]
  },
  {
   "attachments": {},
   "cell_type": "markdown",
   "metadata": {},
   "source": [
    "# Task 2\n",
    "\n",
    "Create a visualization that shows how many products are repeat purchases. Use the visualization to:\n",
    "\n",
    "   - State which category of the variable repeat purchases has the most\n",
    "    observations\n",
    "   - Explain whether the observations are balanced across categories of the variable repeat purchases\n",
    "\n",
    "*Solution* \n",
    "\n",
    "![Range](Repeat_purchases.png)\n",
    "\n",
    "The graphic above shows the distribution of products based on whether they were purchased repeatedly or not.\n",
    "\n",
    "We observe that the categories are unbalanced. The majority of products sold are repeatedly purchased products. This suggests that these types of products are more appreciated by customers.In fact,  with over 60% (906) are purchased repeatedly again about 40% (594) that are not.\n",
    "\n",
    "We could think PetMind should focus more on the products that are purchased repeatedly, but we have to be careful because that graphic don't say anything about PetMind's profit. More analysis shoud be done\n"
   ]
  },
  {
   "cell_type": "code",
   "execution_count": 57,
   "metadata": {},
   "outputs": [
    {
     "data": {
      "image/png": "[encoded data removed]",
      "text/plain": [
       "<Figure size 600x600 with 1 Axes>"
      ]
     },
     "metadata": {},
     "output_type": "display_data"
    }
   ],
   "source": [
    "repeat_purchase_counts = Sales['repeat_purchase'].value_counts()\n",
    "\n",
    "# Plotting the pie chart\n",
    "plt.figure(figsize=(6, 6))\n",
    "plt.pie(repeat_purchase_counts, labels=repeat_purchase_counts.index, autopct='%1.1f%%')\n",
    "plt.title('Repeat Purchases')\n",
    "plt.legend(labels=['{}: {}'.format(index, count) for index, count in repeat_purchase_counts.items()])\n",
    "plt.show()"
   ]
  },
  {
   "attachments": {},
   "cell_type": "markdown",
   "metadata": {},
   "source": [
    "On constate que la plupart des produits vendus sont des produits achetés de façon repetitives. Cela laisse penser que ces types de produits plus apprecier par les clients."
   ]
  },
  {
   "attachments": {},
   "cell_type": "markdown",
   "metadata": {},
   "source": [
    "# Task 3 \n",
    "\n",
    "Describe the distribution of all of the sales. Your answer must include a visualization that shows the distribution.\n",
    "\n",
    "**Solution**\n",
    "\n",
    "We observe an asymmetric distribution of products based on their annual sales from the previous year. Most of the products have an annual sale below 1250. Specifically, annual sales ranging from 1000 to 1083 are the most frequent. Additionally, two groups of products stand out in terms of their past annual sales: one group with values between 1700 and below 2000, and a very small extreme group with sales exceeding 2000. This higher sales value is suspected to be an outlier.\n",
    "\n",
    "Based solely on this graph, it can be suggested that the company should focus on products with significant annual sales, for example, products with sales values exceeding 1000. Alternatively, investing in factors that explain high sales for products with elevated sales values would also be beneficial.\n",
    "\n",
    "![Range](distribution.png)"
   ]
  },
  {
   "cell_type": "code",
   "execution_count": 80,
   "metadata": {},
   "outputs": [
    {
     "data": {
      "image/png": "[encoded data removed]",
      "text/plain": [
       "<Figure size 640x480 with 1 Axes>"
      ]
     },
     "metadata": {},
     "output_type": "display_data"
    }
   ],
   "source": [
    "import pandas as pd\n",
    "import matplotlib.pyplot as plt\n",
    "\n",
    "# Assuming your dataframe is named \"df\"\n",
    "sales_data = Sales['sales']\n",
    "\n",
    "# Plotting the histogram\n",
    "\n",
    "plt.hist(sales_data, bins=25, edgecolor='black')\n",
    "plt.xlabel('Sales')\n",
    "plt.ylabel('Count')\n",
    "plt.title('Distribution of Sales')\n",
    "# Sales['sales'].plot(kind='density')\n",
    "plt.show()\n"
   ]
  },
  {
   "attachments": {},
   "cell_type": "markdown",
   "metadata": {},
   "source": [
    "On constate une distribution asymetrique des produits selon  les ventes annuelles l'année passé. la plupart de produit on une vente annuelle inferieur à 1250. De façon specifique, les ventres annuelles  de 1000 à 1083 sont les plus frequentes. Par ailleurs  deux groupes de produits se distingues par leur vente annuelle passée: un  group de produits dont les valeurs annuelle est compris entre 1700 et inferieurs à 2000. Enfin un très faible groupe extrème  avec plus 2000 comme ventes. Cette valeur de ventes est supçonnée de valeur aberrante.\n",
    "\n",
    "En nous basant seleument sur ce graphique, on dira que l'entreprise devrait se concentrée sur les produits ayant une vente annuelle important, par exemple les produits ayant plus de 1000 comme valeurs de vente annuelles, ou très bien investir sur les facteurs explicateurs de ventes des produits ayant des valeurs de ventes élevées.\n"
   ]
  },
  {
   "cell_type": "code",
   "execution_count": 85,
   "metadata": {},
   "outputs": [
    {
     "data": {
      "text/plain": [
       "83.33333333333333"
      ]
     },
     "execution_count": 85,
     "metadata": {},
     "output_type": "execute_result"
    }
   ],
   "source": [
    "Sales['sales'].describe()\n"
   ]
  },
  {
   "attachments": {},
   "cell_type": "markdown",
   "metadata": {},
   "source": [
    "# Task 4\n",
    "\n",
    "Describe the relationship between repeat purchases and sales. Your answer must\n",
    "include a visualization to demonstrate the relationship\n",
    "\n",
    "*Solution*\n",
    "\n",
    "In order to describe the relationship  between repeat purchases and sales, we used a boxplot.\n",
    "![Range](boxplot.png)\n",
    "\n",
    "To facilitate comparison, the outliers are been  removed by interquartile range method.\n",
    "\n",
    "![Range](boxplot_no_outlier.png)\n",
    "\n",
    "We can now focus on the main range of the data. Although repeat purchases are more numerous, the interquartile range of sales is lower compared to the non-repeat purchase category. This is likely due to the fact that while there is a large number of products purchased repeatedly that the sales are mostly lower comparing to non-repeat purchase category.\n",
    "\n",
    "**Illustration**\n",
    "\n",
    "![Range](illustration.png)\n"
   ]
  },
  {
   "cell_type": "code",
   "execution_count": 87,
   "metadata": {},
   "outputs": [
    {
     "data": {
      "text/plain": [
       "<AxesSubplot:title={'center':'sales'}, xlabel='[repeat_purchase]'>"
      ]
     },
     "execution_count": 87,
     "metadata": {},
     "output_type": "execute_result"
    },
    {
     "data": {
      "image/png": "[encoded data removed]",
      "text/plain": [
       "<Figure size 640x480 with 1 Axes>"
      ]
     },
     "metadata": {},
     "output_type": "display_data"
    }
   ],
   "source": [
    "Sales[['sales', 'repeat_purchase']].boxplot(by = 'repeat_purchase',grid=True)"
   ]
  },
  {
   "cell_type": "code",
   "execution_count": 88,
   "metadata": {},
   "outputs": [
    {
     "data": {
      "text/html": [
       "<div>\n",
       "<style scoped>\n",
       "    .dataframe tbody tr th:only-of-type {\n",
       "        vertical-align: middle;\n",
       "    }\n",
       "\n",
       "    .dataframe tbody tr th {\n",
       "        vertical-align: top;\n",
       "    }\n",
       "\n",
       "    .dataframe thead th {\n",
       "        text-align: right;\n",
       "    }\n",
       "</style>\n",
       "<table border=\"1\" class=\"dataframe\">\n",
       "  <thead>\n",
       "    <tr style=\"text-align: right;\">\n",
       "      <th></th>\n",
       "      <th>product_id</th>\n",
       "      <th>category</th>\n",
       "      <th>animal</th>\n",
       "      <th>size</th>\n",
       "      <th>price</th>\n",
       "      <th>sales</th>\n",
       "      <th>rating</th>\n",
       "      <th>repeat_purchase</th>\n",
       "    </tr>\n",
       "  </thead>\n",
       "  <tbody>\n",
       "    <tr>\n",
       "      <th>1</th>\n",
       "      <td>2</td>\n",
       "      <td>Housing</td>\n",
       "      <td>Bird</td>\n",
       "      <td>Medium</td>\n",
       "      <td>35.98</td>\n",
       "      <td>963.60</td>\n",
       "      <td>6</td>\n",
       "      <td>0</td>\n",
       "    </tr>\n",
       "    <tr>\n",
       "      <th>2</th>\n",
       "      <td>3</td>\n",
       "      <td>Food</td>\n",
       "      <td>Dog</td>\n",
       "      <td>Medium</td>\n",
       "      <td>31.23</td>\n",
       "      <td>898.30</td>\n",
       "      <td>5</td>\n",
       "      <td>1</td>\n",
       "    </tr>\n",
       "    <tr>\n",
       "      <th>3</th>\n",
       "      <td>4</td>\n",
       "      <td>Medicine</td>\n",
       "      <td>Cat</td>\n",
       "      <td>Small</td>\n",
       "      <td>24.95</td>\n",
       "      <td>982.15</td>\n",
       "      <td>6</td>\n",
       "      <td>1</td>\n",
       "    </tr>\n",
       "    <tr>\n",
       "      <th>4</th>\n",
       "      <td>5</td>\n",
       "      <td>Housing</td>\n",
       "      <td>Cat</td>\n",
       "      <td>Small</td>\n",
       "      <td>26.18</td>\n",
       "      <td>832.63</td>\n",
       "      <td>7</td>\n",
       "      <td>1</td>\n",
       "    </tr>\n",
       "    <tr>\n",
       "      <th>5</th>\n",
       "      <td>6</td>\n",
       "      <td>Housing</td>\n",
       "      <td>Dog</td>\n",
       "      <td>Small</td>\n",
       "      <td>30.77</td>\n",
       "      <td>874.58</td>\n",
       "      <td>7</td>\n",
       "      <td>0</td>\n",
       "    </tr>\n",
       "  </tbody>\n",
       "</table>\n",
       "</div>"
      ],
      "text/plain": [
       "   product_id  category animal    size  price   sales  rating repeat_purchase\n",
       "1           2   Housing   Bird  Medium  35.98  963.60       6               0\n",
       "2           3      Food    Dog  Medium  31.23  898.30       5               1\n",
       "3           4  Medicine    Cat   Small  24.95  982.15       6               1\n",
       "4           5   Housing    Cat   Small  26.18  832.63       7               1\n",
       "5           6   Housing    Dog   Small  30.77  874.58       7               0"
      ]
     },
     "execution_count": 88,
     "metadata": {},
     "output_type": "execute_result"
    }
   ],
   "source": [
    "import pandas as pd\n",
    "\n",
    "sales_data = Sales['sales']\n",
    "\n",
    "Q1 = sales_data.quantile(0.25)\n",
    "Q3 = sales_data.quantile(0.75)\n",
    "IQR = Q3 - Q1\n",
    "\n",
    "sales_no_outliers = Sales[~((sales_data < (Q1 - 1.5 * IQR)) | (sales_data > (Q3 + 1.5 * IQR)))]\n",
    "\n",
    "sales_no_outliers.head()\n"
   ]
  },
  {
   "cell_type": "code",
   "execution_count": 86,
   "metadata": {},
   "outputs": [
    {
     "data": {
      "image/png": "[encoded data removed]",
      "text/plain": [
       "<Figure size 640x480 with 1 Axes>"
      ]
     },
     "metadata": {},
     "output_type": "display_data"
    }
   ],
   "source": [
    "sales_no_outliers[['sales', 'repeat_purchase']].boxplot(by = 'repeat_purchase',grid=True)\n",
    "plt.title('(no outliers)')\n",
    "plt.show()"
   ]
  },
  {
   "attachments": {},
   "cell_type": "markdown",
   "metadata": {},
   "source": [
    "nous pouvons maintenant nous concentrer  sur la plage principale des données.Bien que les produits achétés de façon repetitive soient les plus nombreux, l'ecart interquartile  des ventes est inferieur à celui de la categorie opposée. Cela est probablement du faible que, certes, le nombre important de produits achetés repetitivement mais les ventes sont en majorité inferieures à celles de l'autre categorie.\n"
   ]
  },
  {
   "cell_type": "code",
   "execution_count": 89,
   "metadata": {},
   "outputs": [
    {
     "data": {
      "image/png": "[encoded data removed]",
      "text/plain": [
       "<Figure size 640x480 with 1 Axes>"
      ]
     },
     "metadata": {},
     "output_type": "display_data"
    }
   ],
   "source": [
    "\n",
    "sales_data1 = Sales[Sales.repeat_purchase == '1']['sales']\n",
    "sales_data0= Sales[Sales.repeat_purchase == '0']['sales']\n",
    "\n",
    "descriptive_stats = ['count', 'mean', 'std', 'min', '25%', '50%', '75%', 'max']\n",
    "values1 = sales_data1.describe()[descriptive_stats].values\n",
    "values0 = sales_data0.describe()[descriptive_stats].values\n",
    "x_range = range(len(descriptive_stats))\n",
    "\n",
    "fig, ax = plt.subplots()\n",
    "\n",
    "ax.bar(x_range, values1, align='center', width=0.4, label='1')\n",
    "\n",
    "ax.bar(x_range, values0, align='edge', width=-0.4, label='0')\n",
    "ax.set_xticks(x_range)\n",
    "ax.set_xticklabels(descriptive_stats)\n",
    "\n",
    "ax.axhline(0, color='black', linewidth=0.8)\n",
    "\n",
    "ax.legend()\n",
    "\n",
    "plt.title('Comparison of Descriptive Statistics')\n",
    "\n",
    "plt.show()\n"
   ]
  }
 ],
 "metadata": {
  "kernelspec": {
   "display_name": "base",
   "language": "python",
   "name": "python3"
  },
  "language_info": {
   "codemirror_mode": {
    "name": "ipython",
    "version": 3
   },
   "file_extension": ".py",
   "mimetype": "text/x-python",
   "name": "python",
   "nbconvert_exporter": "python",
   "pygments_lexer": "ipython3",
   "version": "3.9.13"
  },
  "orig_nbformat": 4
 },
 "nbformat": 4,
 "nbformat_minor": 2
}
